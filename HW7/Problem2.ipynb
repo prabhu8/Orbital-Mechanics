{
 "cells": [
  {
   "cell_type": "markdown",
   "metadata": {},
   "source": [
    "# Manuever to Another Orbit\n",
    "## Given: \n",
    "Spacecraft in orbit around the Earth with paramters: $e = 0.75$, $a = 4.5 * r_{Earth}$ wants to go into an orbit with $r_p = 2R_{Earth}$, $r_a = 6 * R_{Earth}$ and with a $35^o$ perigee advance.\n",
    "\n",
    "## Find\n",
    "a) At $\\theta^*$ the $r^-_1$, $v^-_1$, and $\\gamma^-_1$ at manuever point.\n",
    "\n",
    "b) $|\\Delta V|$, $\\alpha$, $\\beta$. Choose manuever point by lowest $\\Delta v$. What are the $v^+$ and $\\gamma^+$?\n",
    "\n",
    "c) Plot it\n"
   ]
  },
  {
   "cell_type": "code",
   "execution_count": 1,
   "metadata": {},
   "outputs": [],
   "source": [
    "# Import Functions and basic info\n",
    "import sys\n",
    "sys.path.append('../')\n",
    "from Functions.Universe import Solar_S as SS\n",
    "from Functions import Keplarian_fnc as kp\n",
    "import numpy as np\n",
    "import matplotlib.pyplot as plt"
   ]
  },
  {
   "cell_type": "code",
   "execution_count": 2,
   "metadata": {},
   "outputs": [],
   "source": [
    "miu = SS.loc['Earth', 'miu']\n",
    "\n",
    "e_1 = 0.75\n",
    "a_1 = 4.5 * SS.loc['Earth', 'r']\n",
    "\n",
    "rp_2 = 2*SS.loc['Earth', 'r']\n",
    "ra_2 = 6*SS.loc['Earth', 'r']\n",
    "\n",
    "del_omega = kp.angle.degree(35)"
   ]
  },
  {
   "cell_type": "markdown",
   "metadata": {},
   "source": [
    "### Part a)"
   ]
  },
  {
   "cell_type": "code",
   "execution_count": 3,
   "metadata": {},
   "outputs": [
    {
     "name": "stdout",
     "output_type": "stream",
     "text": [
      "True anomaly at first orbit (deg): 110.34\n",
      "Location and Distance (km)\n",
      "         per        rad        eci        mag\n",
      "0  -5904.549  16985.367  -5904.549  16985.367\n",
      "1  15926.048      0.000  15926.048  16985.367\n",
      "2      0.000      0.000      0.000  16985.367\n",
      "\n",
      " Velocity (km/s)\n",
      "     per    rad    eci    mag\n",
      "0 -5.283  3.962 -5.283  5.749\n",
      "1  2.267  4.165  2.267  5.749\n",
      "2  0.000  0.000  0.000  5.749\n",
      "\n",
      " Flight Path angle\n",
      "{'deg': 43.568178778184254, 'rad': 0.7604081687768355}\n",
      "\n",
      "\n",
      "True anomaly at first orbit (deg): 206.94\n",
      "Location and Distance (km)\n",
      "         per        rad        eci        mag\n",
      "0 -33782.963  37894.178 -33782.963  37894.178\n",
      "1 -17166.249      0.000 -17166.249  37894.178\n",
      "2      0.000      0.000      0.000  37894.178\n",
      "\n",
      " Velocity (km/s)\n",
      "     per    rad    eci    mag\n",
      "0  2.552 -1.914  2.552  2.674\n",
      "1 -0.797  1.867 -0.797  2.674\n",
      "2  0.000  0.000  0.000  2.674\n",
      "\n",
      " Flight Path angle\n",
      "{'deg': 314.2842098204877, 'rad': 5.485294248396207}\n",
      "\n",
      "\n"
     ]
    }
   ],
   "source": [
    "p_1 = kp.p_a_e(a_1, e_1)\n",
    "h_1 = kp.h_miu_p(miu, p_1)\n",
    "\n",
    "a_2 = kp.a_rp_ra(rp_2, ra_2)\n",
    "e_2 = kp.e_rp_a(rp_2, a_2)\n",
    "p_2 = kp.p_a_e(a_2, e_2)\n",
    "h_2 = kp.h_miu_p(miu, p_2)\n",
    "\n",
    "thst_int_1 = kp.thst_int.thst_int(p_1, p_2, e_1, e_2, del_omega.rad)\n",
    "r_mags_1 = np.array([])\n",
    "for thst in thst_int_1.rad:\n",
    "    print('True anomaly at first orbit (deg):' , round(np.rad2deg(thst),2))\n",
    "    \n",
    "    r_1 = kp.distance.keplar_r(p_1, e_1, thst)\n",
    "    r_mags_1 = np.append(r_mags_1, r_1.mag)\n",
    "    v_1_mag = kp.velocity.v_a_miu_r(a_1, miu, r_1.mag)\n",
    "    gamma_1 = kp.gamma.gamma_h_r_v_thst(h_1, r_1.mag, v_1_mag, thst)\n",
    "    v_1 = kp.velocity.v_gamma(v_1_mag, gamma_1.rad, thst)\n",
    "    \n",
    "    print('Location and Distance (km)')\n",
    "    print(r_1.print_table())\n",
    "    print('\\n Velocity (km/s)')\n",
    "    print(v_1.print_table())\n",
    "    print('\\n Flight Path angle')\n",
    "    print(gamma_1.__dict__)    \n",
    "    print('\\n')\n",
    "\n",
    "\n"
   ]
  },
  {
   "cell_type": "code",
   "execution_count": 4,
   "metadata": {},
   "outputs": [
    {
     "name": "stdout",
     "output_type": "stream",
     "text": [
      "True anomaly at second orbit (deg): 75.34\n",
      "Location and Distance (km)\n",
      "         per        rad        eci        mag\n",
      "0   4298.082  16985.367  -5904.549  16985.367\n",
      "1  16432.564      0.000  15926.048  16985.367\n",
      "2      0.000      0.000      0.000  16985.367\n",
      "\n",
      " Velocity (km/s)\n",
      "     per    rad    eci    mag\n",
      "0 -4.416  2.208 -5.588  5.596\n",
      "1  3.437  5.142  0.283  5.596\n",
      "2  0.000  0.000  0.000  5.596\n",
      "\n",
      " Flight Path angle\n",
      "{'deg': 23.238603101018267, 'rad': 0.4055901376769332}\n",
      "\n",
      "\n",
      "True anomaly at second orbit (deg): 171.94\n",
      "Location and Distance (km)\n",
      "         per        rad        eci        mag\n",
      "0 -37519.539  37894.178 -33782.963  37894.178\n",
      "1   5315.344      0.000 -17166.249  37894.178\n",
      "2      0.000      0.000      0.000  37894.178\n",
      "\n",
      " Velocity (km/s)\n",
      "     per    rad    eci    mag\n",
      "0 -0.640  0.320  0.759  2.327\n",
      "1 -2.237  2.305 -2.200  2.327\n",
      "2  0.000  0.000  0.000  2.327\n",
      "\n",
      " Flight Path angle\n",
      "{'deg': 7.907501127671754, 'rad': 0.1380119302830366}\n",
      "\n",
      "\n"
     ]
    }
   ],
   "source": [
    "thst_int_2 = kp.thst.thst_p_e_r(p_2, e_2, r_mags_1)\n",
    "\n",
    "for thst in thst_int_2.rad:\n",
    "    print('True anomaly at second orbit (deg):' , round(np.rad2deg(thst),2))\n",
    "    \n",
    "    r_2 = kp.distance.keplar_r(p_2, e_2, thst, omega=del_omega.rad)\n",
    "    v_2_mag = kp.velocity.v_a_miu_r(a_2, miu, r_2.mag)\n",
    "    gamma_2 = kp.gamma.gamma_h_r_v_thst(h_2, r_2.mag, v_2_mag, thst)\n",
    "    v_2 = kp.velocity.v_gamma(v_2_mag, gamma_2.rad, thst, omega=del_omega.rad)\n",
    "    \n",
    "    print('Location and Distance (km)')\n",
    "    print(r_2.print_table())\n",
    "    print('\\n Velocity (km/s)')\n",
    "    print(v_2.print_table())\n",
    "    print('\\n Flight Path angle')\n",
    "    print(gamma_2.__dict__)\n",
    "    print('\\n')"
   ]
  },
  {
   "cell_type": "markdown",
   "metadata": {},
   "source": [
    "### Part b)"
   ]
  },
  {
   "cell_type": "code",
   "execution_count": 5,
   "metadata": {},
   "outputs": [
    {
     "name": "stdout",
     "output_type": "stream",
     "text": [
      "DeltaV at first position (km/s):\n",
      "      per    rad    eci    mag\n",
      "0  0.867 -1.754 -0.306  2.008\n",
      "1  1.170  0.976 -1.984  2.008\n",
      "2  0.000  0.000  0.000  2.008\n",
      "Beta (deg): 284.47\n",
      "Alpha (deg): 255.53\n",
      "\n",
      " DeltaV at second position (km/s):\n",
      "      per    rad    eci    mag\n",
      "0 -3.192  2.234 -1.794  2.277\n",
      "1 -1.440  0.438 -1.402  2.277\n",
      "2  0.000  0.000  0.000  2.277\n",
      "Beta (deg): 55.37\n",
      "Alpha (deg): 124.63\n",
      "\n",
      "\n",
      "Manuever 1 is better.\n"
     ]
    }
   ],
   "source": [
    "r_1 = kp.distance.keplar_r(p_1, e_1, thst_int_1.rad)\n",
    "v_1_mag = kp.velocity.v_a_miu_r(a_1, miu, r_1.mag)\n",
    "gamma_1 = kp.gamma.gamma_h_r_v_thst(h_1, r_1.mag, v_1_mag, thst_int_1.rad)\n",
    "v_11 = kp.velocity.v_gamma(v_1_mag[0], gamma_1.rad[0], thst_int_1.rad[0])\n",
    "v_12 = kp.velocity.v_gamma(v_1_mag[1], gamma_1.rad[1], thst_int_1.rad[1])\n",
    "\n",
    "r_2 = kp.distance.keplar_r(p_1, e_1, thst_int_1.rad, omega=del_omega.rad)\n",
    "v_2_mag = kp.velocity.v_a_miu_r(a_2, miu, r_2.mag)\n",
    "gamma_2 = kp.gamma.gamma_h_r_v_thst(h_2, r_2.mag, v_2_mag, thst_int_2.rad)\n",
    "v_21 = kp.velocity.v_gamma(v_2_mag[0], gamma_2.rad[0], thst_int_2.rad[0], omega=del_omega.rad)\n",
    "v_22 = kp.velocity.v_gamma(v_2_mag[1], gamma_2.rad[1], thst_int_2.rad[1], omega=del_omega.rad)\n",
    "\n",
    "delV_1 = v_21 - v_11\n",
    "beta_1 = kp.beta.beta_v1_v2_delV_gamma1_gamma2(v_11.mag, v_21.mag, delV_1.mag, gamma_1.rad[0], gamma_2.rad[0])\n",
    "alpha_1 = kp.alpha.alpha_v1rad_delVrad(v_11.rad, delV_1.rad)\n",
    "\n",
    "delV_2 = v_22 - v_12\n",
    "beta_2 = kp.beta.beta_v1_v2_delV_gamma1_gamma2(v_12.mag, v_22.mag, delV_2.mag, gamma_1.rad[1], gamma_2.rad[1])\n",
    "alpha_2 = kp.alpha.alpha_v1rad_delVrad(v_12.rad, delV_2.rad)\n",
    "\n",
    "print('DeltaV at first position (km/s):\\n',delV_1.print_table())\n",
    "print('Beta (deg):', round(beta_1.deg,2))\n",
    "print('Alpha (deg):', round(alpha_1.deg,2))\n",
    "\n",
    "print('\\n DeltaV at second position (km/s):\\n', delV_2.print_table())\n",
    "print('Beta (deg):', round(beta_2.deg,2))\n",
    "print('Alpha (deg):', round(alpha_2.deg,2))\n",
    "\n",
    "if delV_1.mag < delV_2.mag:\n",
    "    print('\\n\\nManuever 1 is better.')\n",
    "    manuever_i = 0\n",
    "else:\n",
    "    print('\\n\\nManuever 1 is better.')\n",
    "    manuever_i = 1"
   ]
  },
  {
   "cell_type": "markdown",
   "metadata": {},
   "source": [
    "### Part c)"
   ]
  },
  {
   "cell_type": "code",
   "execution_count": 8,
   "metadata": {},
   "outputs": [
    {
     "data": {
      "text/plain": [
       "<matplotlib.legend.Legend at 0x17ce998d490>"
      ]
     },
     "execution_count": 8,
     "metadata": {},
     "output_type": "execute_result"
    },
    {
     "data": {
      "image/png": "[encoded data removed]",
      "text/plain": [
       "<Figure size 720x720 with 1 Axes>"
      ]
     },
     "metadata": {
      "needs_background": "light"
     },
     "output_type": "display_data"
    }
   ],
   "source": [
    "thst_traj = kp.thst.degree(np.linspace(0, 360, 500))\n",
    "r_1_orbit = kp.distance.keplar_r(p_1, e_1, thst_traj.rad)\n",
    "r_2_orbit = kp.distance.keplar_r(p_2, e_2, thst_traj.rad, omega=del_omega.rad)\n",
    "\n",
    "fig, ax = plt.subplots(figsize=(10,10))\n",
    "ax.plot(r_1_orbit.eci[:,0], r_1_orbit.eci[:,1], label='Inital Orbit')\n",
    "ax.plot(r_2_orbit.eci[:,0], r_2_orbit.eci[:,1], label='Second Orbit')\n",
    "ax.scatter(0, 0, label='Earth')\n",
    "ax.scatter(r_1.eci[0,0], r_1.eci[0,1], label='Manuever 1', marker='*')\n",
    "ax.arrow(r_1.eci[0,0], r_1.eci[0,1], v_11.eci[0]*2000, v_11.eci[1]*2000, color='blue', linestyle='--')\n",
    "ax.arrow(r_1.eci[0,0], r_1.eci[0,1], v_21.eci[0]*2000, v_21.eci[1]*2000, color='pink', linestyle='--')\n",
    "ax.arrow(r_1.eci[0,0]+v_11.eci[0]*2000, r_1.eci[0,1]+v_11.eci[1]*2000, delV_1.eci[0]*2000, delV_1.eci[1]*2000, color='black', linestyle='--', label='DeltaV')\n",
    "\n",
    "ax.scatter(r_1.eci[1,0], r_1.eci[1,1], label='Manuever 1', marker='*')\n",
    "ax.arrow(r_1.eci[1,0], r_1.eci[1,1], v_12.eci[0]*2000, v_12.eci[1]*2000, color='blue', linestyle='--')\n",
    "ax.arrow(r_1.eci[1,0], r_1.eci[1,1], v_22.eci[0]*2000, v_22.eci[1]*2000, color='pink', linestyle='--')\n",
    "ax.arrow(r_1.eci[1,0]+v_12.eci[0]*2000, r_1.eci[1,1]+v_12.eci[1]*2000, delV_2.eci[0]*2000, delV_2.eci[1]*2000, color='black', linestyle='--')\n",
    "ax.set_aspect('equal', 'box')\n",
    "ax.set_xlabel('e_1')\n",
    "ax.set_ylabel('p_1')\n",
    "ax.set_title('Manuever in the perspective of 1st Orbit')\n",
    "ax.legend()"
   ]
  }
 ],
 "metadata": {
  "interpreter": {
   "hash": "992be081e26f37b6ab964febf09ff52cfb4040396eba6f24146958eb15544b29"
  },
  "kernelspec": {
   "display_name": "Python 3.9.7 64-bit (windows store)",
   "name": "python3"
  },
  "language_info": {
   "codemirror_mode": {
    "name": "ipython",
    "version": 3
   },
   "file_extension": ".py",
   "mimetype": "text/x-python",
   "name": "python",
   "nbconvert_exporter": "python",
   "pygments_lexer": "ipython3",
   "version": "3.9.7"
  },
  "orig_nbformat": 4
 },
 "nbformat": 4,
 "nbformat_minor": 2
}
