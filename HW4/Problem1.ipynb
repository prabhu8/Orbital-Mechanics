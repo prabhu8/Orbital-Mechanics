{
 "cells": [
  {
   "cell_type": "markdown",
   "metadata": {},
   "source": [
    "# Elliptical Orbit\n",
    "## Given:\n",
    "Earth and satellite as a two body system, $R_p = 3R_{Earth}$, $R_a = 15R_{Earth}$, $\\theta^*_0 = 90^o$\n",
    "\n",
    "## Find:\n",
    "a) Orbital parameters $r_0$, $p$, $h$, $P$, $\\epsilon$, $a$, $e$, $r_0$, $v_0$, $\\gamma_0$, and $v_c$. How does the circular velocity compare to the velocity?\n",
    "\n",
    "b) Compute distance and velocity in terms of radial and perifocal frame.\n",
    "\n",
    "c) The new position is $\\Delta \\theta^* = \\theta^*_1 - \\theta^*_0 = 120$. What is $r_1$, $v_1$, $gamma_1$\n",
    "\n",
    "d) Plot the positionsa and the orbit."
   ]
  },
  {
   "cell_type": "code",
   "execution_count": 2,
   "metadata": {},
   "outputs": [],
   "source": [
    "# Import Functions and basic infor\n",
    "import sys\n",
    "sys.path.append('../')\n",
    "from Functions.Universe import Solar_S as SS\n",
    "from Functions import Keplarian_fnc as kp\n",
    "import numpy as np\n",
    "import matplotlib.pyplot as plt\n",
    "from Functions.Universe import G"
   ]
  },
  {
   "cell_type": "code",
   "execution_count": 3,
   "metadata": {},
   "outputs": [],
   "source": [
    "system = 'Earth'\n",
    "rp = 3*SS.loc[system, 'r']\n",
    "ra = 15*SS.loc[system, 'r']\n",
    "thst0 = kp.thst.degree(90)\n",
    "miu = SS.loc[system, 'miu']\n",
    "\n",
    "del_thst = kp.angle.degree(120)"
   ]
  },
  {
   "cell_type": "markdown",
   "metadata": {},
   "source": [
    "### Part a)"
   ]
  },
  {
   "cell_type": "code",
   "execution_count": 4,
   "metadata": {},
   "outputs": [],
   "source": [
    "a = kp.a_rp_ra(rp, ra)\n",
    "e = kp.e_rp_a(rp, a)\n",
    "p = kp.p_a_e(a, e)\n",
    "h = kp.h_miu_p(miu, p)\n",
    "Eps = kp.Eps_miu_a(miu, a)"
   ]
  },
  {
   "cell_type": "markdown",
   "metadata": {},
   "source": [
    "### Part b)"
   ]
  },
  {
   "cell_type": "code",
   "execution_count": 5,
   "metadata": {},
   "outputs": [
    {
     "name": "stdout",
     "output_type": "stream",
     "text": [
      "Velocity (km/s)\n",
      "        per       rad       mag\n",
      "0 -3.535387  2.356925  4.249007\n",
      "1  2.356925  3.535387  4.249007\n",
      "2  0.000000  0.000000  4.249007\n",
      "\n",
      "Distance (km)\n",
      "            per       rad       mag\n",
      "0  1.952741e-12  31890.68  31890.68\n",
      "1  3.189068e+04      0.00  31890.68\n",
      "2  0.000000e+00      0.00  31890.68\n",
      "\n",
      " Flight path angle (deg):  33.69\n"
     ]
    }
   ],
   "source": [
    "r0 = kp.distance.keplar_r(p, e, thst0.rad)\n",
    "v0_mag = kp.velocity.v_a_miu_r(a, miu, r0.mag)\n",
    "gamma0 = kp.gamma.gamma_h_r_v_thst(h, r0.mag, v0_mag, thst0.rad)\n",
    "v0 = kp.velocity.v_gamma(v0_mag, gamma0.rad, thst0.rad)\n",
    "\n",
    "print('Velocity (km/s)')\n",
    "print(v0.print_table())\n",
    "\n",
    "print('\\nDistance (km)')\n",
    "print(r0.print_table())\n",
    "\n",
    "print('\\n Flight path angle (deg): ', round(gamma0.deg,3))"
   ]
  },
  {
   "cell_type": "markdown",
   "metadata": {},
   "source": [
    "### Part c)"
   ]
  },
  {
   "cell_type": "code",
   "execution_count": 6,
   "metadata": {},
   "outputs": [
    {
     "name": "stdout",
     "output_type": "stream",
     "text": [
      "Velocity (km/s)\n",
      "        per       rad       mag\n",
      "0  1.767694 -1.178462  1.903024\n",
      "1 -0.704810  1.494230  1.903024\n",
      "2  0.000000  0.000000  1.903024\n",
      "\n",
      "Distance (km)\n",
      "            per           rad           mag\n",
      "0 -65345.218536  75454.159024  75454.159024\n",
      "1 -37727.079512      0.000000  75454.159024\n",
      "2      0.000000      0.000000  75454.159024\n",
      "\n",
      " Flight path angle (deg):  -38.262\n"
     ]
    }
   ],
   "source": [
    "thst1 = kp.angle.radians(del_thst.rad + thst0.rad)\n",
    "\n",
    "r1 = kp.distance.keplar_r(p, e, thst1.rad)\n",
    "v1_mag = kp.velocity.v_a_miu_r(a, miu, r1.mag)\n",
    "gamma1 = kp.gamma.gamma_h_r_v_thst(h, r1.mag, v1_mag, thst1.rad)\n",
    "v1 = kp.velocity.v_gamma(v1_mag, gamma1.rad, thst1.rad)\n",
    "\n",
    "print('Velocity (km/s)')\n",
    "print(v1.print_table())\n",
    "\n",
    "print('\\nDistance (km)')\n",
    "print(r1.print_table())\n",
    "\n",
    "print('\\n Flight path angle (deg): ', round(gamma1.deg,3))"
   ]
  },
  {
   "cell_type": "markdown",
   "metadata": {},
   "source": [
    "### Part d)"
   ]
  },
  {
   "cell_type": "code",
   "execution_count": 7,
   "metadata": {},
   "outputs": [
    {
     "data": {
      "text/plain": [
       "<matplotlib.legend.Legend at 0x1c580e19220>"
      ]
     },
     "execution_count": 7,
     "metadata": {},
     "output_type": "execute_result"
    },
    {
     "data": {
      "image/png": "[encoded data removed]",
      "text/plain": [
       "<Figure size 576x576 with 1 Axes>"
      ]
     },
     "metadata": {
      "needs_background": "light"
     },
     "output_type": "display_data"
    }
   ],
   "source": [
    "thst = kp.thst.degree(np.linspace(0, 360, 500))\n",
    "r = kp.distance.keplar_r(p, e, thst.rad)\n",
    "\n",
    "fig, ax = plt.subplots(figsize=(8,8))\n",
    "ax.plot(r.per[:,0], r.per[:,1], label='Trajetcory')\n",
    "ax.scatter(0, 0, label='Earth')\n",
    "ax.scatter(r0.per[0], r0.per[1], label='Position at t_0', marker='*')\n",
    "ax.scatter(r1.per[0], r1.per[1], label='Position at t_1', marker='*')\n",
    "ax.set_aspect('equal', 'box')\n",
    "ax.set_xlabel('e')\n",
    "ax.set_ylabel('p')\n",
    "ax.set_title('Elliptical Trajectory')\n",
    "ax.legend()"
   ]
  }
 ],
 "metadata": {
  "interpreter": {
   "hash": "992be081e26f37b6ab964febf09ff52cfb4040396eba6f24146958eb15544b29"
  },
  "kernelspec": {
   "display_name": "Python 3.9.7 64-bit (windows store)",
   "name": "python3"
  },
  "language_info": {
   "codemirror_mode": {
    "name": "ipython",
    "version": 3
   },
   "file_extension": ".py",
   "mimetype": "text/x-python",
   "name": "python",
   "nbconvert_exporter": "python",
   "pygments_lexer": "ipython3",
   "version": "3.9.7"
  },
  "orig_nbformat": 4
 },
 "nbformat": 4,
 "nbformat_minor": 2
}
