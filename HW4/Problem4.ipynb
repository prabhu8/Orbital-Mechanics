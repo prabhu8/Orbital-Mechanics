{
 "cells": [
  {
   "cell_type": "markdown",
   "metadata": {},
   "source": [
    "# Hyperbolic Orbit\n",
    "## Given:\n",
    "The WMAP spacecraft which has a $v_{\\infty} = 1.004$ km/s\n",
    "\n",
    "## Find:\n",
    "a) Find the orbital paramenters $p$, $a$, $e$, $h$, $\\epsilon$, $\\delta$, and $\\theta^*_{\\infty}$.\n",
    "\n",
    "b) Distance to moon? Location $r$, $v$, $\\gamma$, and $\\theta^*$. Plot and add angles $\\delta$ and $\\theta^*_{\\infty}$.\n",
    "\n",
    "c) Velocity at periapsis"
   ]
  },
  {
   "cell_type": "code",
   "execution_count": 2,
   "metadata": {},
   "outputs": [],
   "source": [
    "# Import Functions and basic infor\n",
    "import sys\n",
    "sys.path.append('../')\n",
    "from Functions.Universe import Solar_S as SS\n",
    "from Functions import Keplarian_fnc as kp\n",
    "import numpy as np\n",
    "import pandas as pd\n",
    "import matplotlib.pyplot as plt\n",
    "from Functions.Universe import G"
   ]
  },
  {
   "cell_type": "code",
   "execution_count": 3,
   "metadata": {},
   "outputs": [],
   "source": [
    "v_inf = 1.004\n",
    "miu = SS.loc['Earth', 'miu']\n"
   ]
  }
 ],
 "metadata": {
  "interpreter": {
   "hash": "992be081e26f37b6ab964febf09ff52cfb4040396eba6f24146958eb15544b29"
  },
  "kernelspec": {
   "display_name": "Python 3.9.7 64-bit (windows store)",
   "name": "python3"
  },
  "language_info": {
   "codemirror_mode": {
    "name": "ipython",
    "version": 3
   },
   "file_extension": ".py",
   "mimetype": "text/x-python",
   "name": "python",
   "nbconvert_exporter": "python",
   "pygments_lexer": "ipython3",
   "version": "3.9.7"
  },
  "orig_nbformat": 4
 },
 "nbformat": 4,
 "nbformat_minor": 2
}
