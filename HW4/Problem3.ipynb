{
 "cells": [
  {
   "cell_type": "markdown",
   "metadata": {},
   "source": [
    "# Parabolic Orbit\n",
    "## Given:\n",
    "Spacecraft departing from Earth\n",
    "\n",
    "## Find:\n",
    "a) Circular orbit parked at 180 km. Perigee at 180 km compare the escape velocity.\n",
    "\n",
    "b) Compute velocity, $\\gamma$, $\\theta^*$, along the parabolic orbit. $r = 2R_{Earth}$,  $r = 8R_{Earth}$,  $r = 15R_{Earth}$,  $r = 60R_{Earth}$, and  $r = R_{\\infty}$\n",
    "\n",
    "c) Plot $-110^o < \\theta^* < 110$. Compare $\\theta^*$ and $\\gamma$."
   ]
  },
  {
   "cell_type": "code",
   "execution_count": 1,
   "metadata": {},
   "outputs": [],
   "source": [
    "# Import Functions and basic infor\n",
    "import sys\n",
    "sys.path.append('../')\n",
    "from Functions.Universe import Solar_S as SS\n",
    "from Functions import Keplarian_fnc as kp\n",
    "import numpy as np\n",
    "import pandas as pd\n",
    "import matplotlib.pyplot as plt"
   ]
  },
  {
   "cell_type": "code",
   "execution_count": 2,
   "metadata": {},
   "outputs": [],
   "source": [
    "miu = SS.loc['Earth', 'miu']\n",
    "r_c = SS.loc['Earth', 'r'] + 180\n",
    "array = np.array([ 2, 8, 15, 30, 60, 10000])\n",
    "r_array = SS.loc['Earth', 'r']*array\n",
    "e = 1"
   ]
  },
  {
   "cell_type": "markdown",
   "metadata": {},
   "source": [
    "### Part a) and b)"
   ]
  },
  {
   "cell_type": "code",
   "execution_count": 3,
   "metadata": {},
   "outputs": [
    {
     "data": {
      "text/html": [
       "<div>\n",
       "<style scoped>\n",
       "    .dataframe tbody tr th:only-of-type {\n",
       "        vertical-align: middle;\n",
       "    }\n",
       "\n",
       "    .dataframe tbody tr th {\n",
       "        vertical-align: top;\n",
       "    }\n",
       "\n",
       "    .dataframe thead th {\n",
       "        text-align: right;\n",
       "    }\n",
       "</style>\n",
       "<table border=\"1\" class=\"dataframe\">\n",
       "  <thead>\n",
       "    <tr style=\"text-align: right;\">\n",
       "      <th></th>\n",
       "      <th>Distance (Earth Rad)</th>\n",
       "      <th>Circular Vel (km/s)</th>\n",
       "      <th>Parabolic Vel (km/s)</th>\n",
       "      <th>True anomaly (deg)</th>\n",
       "      <th>Flight Path angle (deg)</th>\n",
       "    </tr>\n",
       "  </thead>\n",
       "  <tbody>\n",
       "    <tr>\n",
       "      <th>0</th>\n",
       "      <td>2</td>\n",
       "      <td>5.589938</td>\n",
       "      <td>7.905366</td>\n",
       "      <td>88.382818</td>\n",
       "      <td>44.191409</td>\n",
       "    </tr>\n",
       "    <tr>\n",
       "      <th>1</th>\n",
       "      <td>8</td>\n",
       "      <td>2.794969</td>\n",
       "      <td>3.952683</td>\n",
       "      <td>137.982862</td>\n",
       "      <td>68.991431</td>\n",
       "    </tr>\n",
       "    <tr>\n",
       "      <th>2</th>\n",
       "      <td>15</td>\n",
       "      <td>2.041157</td>\n",
       "      <td>2.886632</td>\n",
       "      <td>149.644203</td>\n",
       "      <td>74.822102</td>\n",
       "    </tr>\n",
       "    <tr>\n",
       "      <th>3</th>\n",
       "      <td>30</td>\n",
       "      <td>1.443316</td>\n",
       "      <td>2.041157</td>\n",
       "      <td>158.662284</td>\n",
       "      <td>79.331142</td>\n",
       "    </tr>\n",
       "    <tr>\n",
       "      <th>4</th>\n",
       "      <td>60</td>\n",
       "      <td>1.020578</td>\n",
       "      <td>1.443316</td>\n",
       "      <td>164.955817</td>\n",
       "      <td>82.477908</td>\n",
       "    </tr>\n",
       "    <tr>\n",
       "      <th>5</th>\n",
       "      <td>10000</td>\n",
       "      <td>0.079054</td>\n",
       "      <td>0.111799</td>\n",
       "      <td>178.838007</td>\n",
       "      <td>89.419004</td>\n",
       "    </tr>\n",
       "  </tbody>\n",
       "</table>\n",
       "</div>"
      ],
      "text/plain": [
       "   Distance (Earth Rad)  Circular Vel (km/s)  Parabolic Vel (km/s)  \\\n",
       "0                     2             5.589938              7.905366   \n",
       "1                     8             2.794969              3.952683   \n",
       "2                    15             2.041157              2.886632   \n",
       "3                    30             1.443316              2.041157   \n",
       "4                    60             1.020578              1.443316   \n",
       "5                 10000             0.079054              0.111799   \n",
       "\n",
       "   True anomaly (deg)  Flight Path angle (deg)  \n",
       "0           88.382818                44.191409  \n",
       "1          137.982862                68.991431  \n",
       "2          149.644203                74.822102  \n",
       "3          158.662284                79.331142  \n",
       "4          164.955817                82.477908  \n",
       "5          178.838007                89.419004  "
      ]
     },
     "execution_count": 3,
     "metadata": {},
     "output_type": "execute_result"
    }
   ],
   "source": [
    "v_c_array = np.sqrt(miu/ r_array)\n",
    "v_p_array = np.sqrt(2) * v_c_array\n",
    "\n",
    "rp = r_c\n",
    "p = 2*rp\n",
    "h = np.sqrt(miu*2*rp)\n",
    "\n",
    "thst_array = np.arccos(2*rp/r_array - 1)\n",
    "thst_array = kp.angle.radians(thst_array)\n",
    "\n",
    "gamma_array = kp.gamma.gamma_h_r_v_thst(h, r_array, v_p_array, thst_array.rad)\n",
    "\n",
    "\n",
    "table = pd.DataFrame({'Distance (Earth Rad)': array,\n",
    "                      'Circular Vel (km/s)': v_c_array, \n",
    "                      'Parabolic Vel (km/s)': v_p_array,\n",
    "                      'True anomaly (deg)': thst_array.deg,\n",
    "                      'Flight Path angle (deg)': gamma_array.deg})\n",
    "\n",
    "table"
   ]
  },
  {
   "cell_type": "markdown",
   "metadata": {},
   "source": [
    "### Part c)"
   ]
  },
  {
   "cell_type": "code",
   "execution_count": 24,
   "metadata": {},
   "outputs": [
    {
     "data": {
      "text/plain": [
       "<matplotlib.legend.Legend at 0x2384127eb20>"
      ]
     },
     "execution_count": 24,
     "metadata": {},
     "output_type": "execute_result"
    },
    {
     "data": {
      "image/png": "[encoded data removed]",
      "text/plain": [
       "<Figure size 576x576 with 1 Axes>"
      ]
     },
     "metadata": {
      "needs_background": "light"
     },
     "output_type": "display_data"
    }
   ],
   "source": [
    "thst = kp.thst.degree(np.linspace(-110, 110, 500))\n",
    "r = kp.distance.keplar_r(p, e, thst.rad)\n",
    "\n",
    "fig, ax = plt.subplots(figsize=(8,8))\n",
    "ax.plot(r.per[:,0], r.per[:,1], label='Trajetcory')\n",
    "ax.plot([p,p], r.per[[0,-1],1], ls = '--', label='Directrix')\n",
    "ax.set_aspect('equal', 'box')\n",
    "ax.set_xlim([-15000, 15000])\n",
    "ax.set_xlabel('e')\n",
    "ax.set_ylabel('p')\n",
    "ax.set_title('Parabolic Trajectory')\n",
    "ax.legend()\n"
   ]
  }
 ],
 "metadata": {
  "interpreter": {
   "hash": "992be081e26f37b6ab964febf09ff52cfb4040396eba6f24146958eb15544b29"
  },
  "kernelspec": {
   "display_name": "Python 3.9.7 64-bit (windows store)",
   "name": "python3"
  },
  "language_info": {
   "codemirror_mode": {
    "name": "ipython",
    "version": 3
   },
   "file_extension": ".py",
   "mimetype": "text/x-python",
   "name": "python",
   "nbconvert_exporter": "python",
   "pygments_lexer": "ipython3",
   "version": "3.9.7"
  },
  "orig_nbformat": 4
 },
 "nbformat": 4,
 "nbformat_minor": 2
}
