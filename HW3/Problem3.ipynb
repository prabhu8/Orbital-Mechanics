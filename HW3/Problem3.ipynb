{
 "cells": [
  {
   "cell_type": "markdown",
   "metadata": {},
   "source": [
    "# Basic Elements of an Orbit\n",
    "## Given: \n",
    "2 body problem 650 kg at an altitude = 2000 km, velocity = 6.8 km/s, flight path angle -10.2 $^{o}$\n",
    "\n",
    "## Find:\n",
    "a) $\\bar{C}_3$, specific angular momentum ( $\\bar{h}$), $KE$, $C_4$, specific energy, and areal velocity for system.\n",
    "\n",
    "b) $\\alpha C_4$ = specific energy, what is $\\alpha$?\n",
    "\n",
    "c) Orbital parameters $p$, $e$, $a$, $P$, $\\theta^*$, radial velocity, transverse velocity. \n",
    "\n",
    "d) Compare relative velocity to circular relative. What type of orbit is it?"
   ]
  },
  {
   "cell_type": "code",
   "execution_count": 1,
   "metadata": {},
   "outputs": [],
   "source": [
    "# Import Functions and basic infor\n",
    "import sys\n",
    "sys.path.append('../')\n",
    "from Functions.Universe import Solar_S as SS\n",
    "from Functions import Keplarian_fnc as kp\n",
    "import numpy as np\n",
    "from Functions.Universe import G"
   ]
  },
  {
   "cell_type": "code",
   "execution_count": 2,
   "metadata": {},
   "outputs": [],
   "source": [
    "system = 'Earth'\n",
    "m_sc = 600\n",
    "m_Earth = SS.loc[system, 'miu']/G\n",
    "\n",
    "r = 2000 + SS.loc[\"Earth\", 'r']\n",
    "v = 6.8\n",
    "gamma = np.deg2rad(-10.2)\n",
    "\n",
    "r_vec = np.array([r, 0, 0])\n",
    "v_vec = v * np.array([np.sin(gamma), np.cos(gamma), 0])"
   ]
  },
  {
   "cell_type": "markdown",
   "metadata": {},
   "source": [
    "### Part a)"
   ]
  },
  {
   "cell_type": "code",
   "execution_count": 3,
   "metadata": {},
   "outputs": [
    {
     "name": "stdout",
     "output_type": "stream",
     "text": [
      "The C_3 (km^2 kg /s):  [       0.       -0. 33642557.]\n",
      "The specific angular momentum value (km^2 /s):  [    0.    -0. 56071.]\n",
      "The total energy C4 (km^2 kg /s): -14674\n",
      "\n",
      "Specific energy (kJ /kg):  -24.4563\n",
      "Areal velocity (km^2 /s):  28035\n"
     ]
    }
   ],
   "source": [
    "C3_vec = m_Earth*m_sc/(m_sc+m_Earth)*np.cross(r_vec, v_vec)\n",
    "h_vec = np.cross(r_vec, v_vec)\n",
    "\n",
    "T = 0.5*m_Earth*m_sc/(m_sc+m_Earth)*np.dot(v_vec, v_vec)\n",
    "U = G*m_sc*m_Earth/np.linalg.norm(r_vec)\n",
    "C4 = T-U\n",
    "\n",
    "Eps = C4/m_sc\n",
    "v_areal = np.linalg.norm(h_vec)/2\n",
    "\n",
    "print('The C_3 (km^2 kg /s): ', np.round(C3_vec))\n",
    "print('The specific angular momentum value (km^2 /s): ', np.round(h_vec))\n",
    "print('The total energy C4 (km^2 kg /s):', round(C4))\n",
    "\n",
    "print('\\nSpecific energy (kJ /kg): ', round(Eps,4))\n",
    "print('Areal velocity (km^2 /s): ', round(v_areal))"
   ]
  },
  {
   "cell_type": "markdown",
   "metadata": {},
   "source": [
    "### Part b)"
   ]
  },
  {
   "cell_type": "code",
   "execution_count": 4,
   "metadata": {},
   "outputs": [
    {
     "name": "stdout",
     "output_type": "stream",
     "text": [
      "Alpha : 0.00167\n"
     ]
    }
   ],
   "source": [
    "alpha_v = (m_sc+m_Earth)/ (m_Earth*m_sc)\n",
    "\n",
    "print('Alpha :', round(alpha_v, 5))"
   ]
  },
  {
   "cell_type": "markdown",
   "metadata": {},
   "source": [
    "### Part c)"
   ]
  },
  {
   "cell_type": "code",
   "execution_count": 5,
   "metadata": {},
   "outputs": [
    {
     "name": "stdout",
     "output_type": "stream",
     "text": [
      "---------- Orbital Parameters ----------\n",
      "Specific angular momentum h (km /s^2): 56071\n",
      "Semi-latus rectum p (km): 7887\n",
      "Semi-major axis a (km): 8149\n",
      "Eccentricity e (-): 0.1792\n",
      "True anomaly θ* (⁰):  -109.07\n",
      "Period (hours):  2.034\n",
      "\n",
      "\n",
      "---------- Postion and Velocity ----------\n",
      "Position in perifocal [e, p, z] (km): [-2738. -7918.     0.]\n",
      "Position in radial [r, θ, z] (km): [8378.    0.    0.]\n",
      "\n",
      "Velocity in perifocal [e, p, z] (km/s): [ 6.7186 -1.0488  0.    ]\n",
      "Velocity in radial [r, θ, z] (km/s): [-1.2042  6.6925  0.    ]\n"
     ]
    }
   ],
   "source": [
    "h = np.linalg.norm(h_vec)\n",
    "p = h**2 / (G*(m_sc+m_Earth))\n",
    "e = kp.e_Eps_h_miu(Eps, h, SS.loc[system, 'miu'])\n",
    "a = kp.a_miu_Eps(SS.loc[system, 'miu'], Eps)\n",
    "Per_s = kp.Per_miu_a(SS.loc[system, 'miu'], a)\n",
    "Per_h = Per_s/3600\n",
    "thst = kp.thst.thst_rvec_vvec_p_e(r_vec, v_vec, p, e)\n",
    "\n",
    "r_vecs = kp.frames.radial2all(r_vec, thst.rad)\n",
    "v_vecs = kp.frames.radial2all(v_vec, thst.rad)\n",
    "\n",
    "print('---------- Orbital Parameters ----------')\n",
    "print('Specific angular momentum h (km /s^2):', round(h))\n",
    "print('Semi-latus rectum p (km):', round(p))\n",
    "print('Semi-major axis a (km):', round(a))\n",
    "print('Eccentricity e (-):', round(e,4))\n",
    "print('True anomaly \\N{greek small letter theta}* (⁰): ', round(thst.deg, 2))\n",
    "print('Period (hours): ', round(Per_h, 3))\n",
    "\n",
    "print('\\n\\n---------- Postion and Velocity ----------')\n",
    "print('Position in perifocal [e, p, z] (km):', np.round(r_vecs.per))\n",
    "print('Position in radial [r, \\N{greek small letter theta}, z] (km):', np.round(r_vecs.rad))\n",
    "\n",
    "print('\\nVelocity in perifocal [e, p, z] (km/s):', np.round(v_vecs.per, 4))\n",
    "print('Velocity in radial [r, \\N{greek small letter theta}, z] (km/s):', np.round(v_vecs.rad, 4))"
   ]
  }
 ],
 "metadata": {
  "interpreter": {
   "hash": "992be081e26f37b6ab964febf09ff52cfb4040396eba6f24146958eb15544b29"
  },
  "kernelspec": {
   "display_name": "Python 3.9.7 64-bit (windows store)",
   "name": "python3"
  },
  "language_info": {
   "codemirror_mode": {
    "name": "ipython",
    "version": 3
   },
   "file_extension": ".py",
   "mimetype": "text/x-python",
   "name": "python",
   "nbconvert_exporter": "python",
   "pygments_lexer": "ipython3",
   "version": "3.9.7"
  },
  "orig_nbformat": 4
 },
 "nbformat": 4,
 "nbformat_minor": 2
}
